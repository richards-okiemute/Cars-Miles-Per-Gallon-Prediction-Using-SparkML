{
  "nbformat": 4,
  "nbformat_minor": 0,
  "metadata": {
    "colab": {
      "provenance": [],
      "authorship_tag": "ABX9TyPcO1oLm8Y/aRO0Y6mMcrHg",
      "include_colab_link": true
    },
    "kernelspec": {
      "name": "python3",
      "display_name": "Python 3"
    },
    "language_info": {
      "name": "python"
    }
  },
  "cells": [
    {
      "cell_type": "markdown",
      "metadata": {
        "id": "view-in-github",
        "colab_type": "text"
      },
      "source": [
        "<a href=\"https://colab.research.google.com/github/richards-okiemute/Cars-Miles-Per-Gallon-Prediction-Using-SparkML/blob/main/Cars_Miles_Per_Gallon_Prediction_Using_SparkML.ipynb\" target=\"_parent\"><img src=\"https://colab.research.google.com/assets/colab-badge.svg\" alt=\"Open In Colab\"/></a>"
      ]
    },
    {
      "cell_type": "code",
      "execution_count": 3,
      "metadata": {
        "colab": {
          "base_uri": "https://localhost:8080/"
        },
        "id": "Tyzq4UsSdXTn",
        "outputId": "53318f94-74e0-48b7-e6f5-66dae08df510"
      },
      "outputs": [
        {
          "output_type": "stream",
          "name": "stdout",
          "text": [
            "Looking in indexes: https://pypi.org/simple, https://us-python.pkg.dev/colab-wheels/public/simple/\n",
            "Collecting pyspark==3.1.2\n",
            "  Downloading pyspark-3.1.2.tar.gz (212.4 MB)\n",
            "\u001b[K     |████████████████████████████████| 212.4 MB 67 kB/s \n",
            "\u001b[?25hCollecting py4j==0.10.9\n",
            "  Downloading py4j-0.10.9-py2.py3-none-any.whl (198 kB)\n",
            "\u001b[K     |████████████████████████████████| 198 kB 21.3 MB/s \n",
            "\u001b[?25hBuilding wheels for collected packages: pyspark\n",
            "  Building wheel for pyspark (setup.py) ... \u001b[?25l\u001b[?25hdone\n",
            "  Created wheel for pyspark: filename=pyspark-3.1.2-py2.py3-none-any.whl size=212880769 sha256=91b40e22848ff002dcad13b1a32dbdbb4d52125c780024f56256705961daa55f\n",
            "  Stored in directory: /root/.cache/pip/wheels/a5/0a/c1/9561f6fecb759579a7d863dcd846daaa95f598744e71b02c77\n",
            "Successfully built pyspark\n",
            "Installing collected packages: py4j, pyspark\n",
            "Successfully installed py4j-0.10.9 pyspark-3.1.2\n",
            "Looking in indexes: https://pypi.org/simple, https://us-python.pkg.dev/colab-wheels/public/simple/\n",
            "Collecting findspark\n",
            "  Downloading findspark-2.0.1-py2.py3-none-any.whl (4.4 kB)\n",
            "Installing collected packages: findspark\n",
            "Successfully installed findspark-2.0.1\n"
          ]
        }
      ],
      "source": [
        "!pip3 install pyspark==3.1.2\n",
        "!pip install findspark\n",
        "import findspark\n",
        "findspark.init()"
      ]
    },
    {
      "cell_type": "code",
      "source": [
        "# Pandas is a popular data science package for Python. We will use Pandas to load a CSV file from disc to a pandas dataframe in memory.\n",
        "import pandas as pd\n",
        "import matplotlib.pyplot as plt\n",
        "# pyspark is the Spark API for Python. In this lab, we use pyspark to initialize the spark context. \n",
        "from pyspark import SparkContext, SparkConf\n",
        "from pyspark.sql import SparkSession"
      ],
      "metadata": {
        "id": "CklRn3UMdanE"
      },
      "execution_count": 4,
      "outputs": []
    },
    {
      "cell_type": "markdown",
      "source": [
        "# **Create and initialize the Spark session needed to load the dataframes and operate on it**"
      ],
      "metadata": {
        "id": "5hNKFu-Yeaym"
      }
    },
    {
      "cell_type": "code",
      "source": [
        "# Creating a spark context class\n",
        "sc = SparkContext()\n",
        "\n",
        "# Creating a spark session\n",
        "spark = SparkSession \\\n",
        "    .builder \\\n",
        "    .appName(\"Python Spark DataFrames basic example\") \\\n",
        "    .config(\"spark.some.config.option\", \"some-value\") \\\n",
        "    .getOrCreate()"
      ],
      "metadata": {
        "id": "KdwXyK4seRns"
      },
      "execution_count": 5,
      "outputs": []
    },
    {
      "cell_type": "markdown",
      "source": [
        "# Initialize Spark session"
      ],
      "metadata": {
        "id": "Tv0CLt9Se4E1"
      }
    },
    {
      "cell_type": "code",
      "source": [
        "spark"
      ],
      "metadata": {
        "colab": {
          "base_uri": "https://localhost:8080/",
          "height": 219
        },
        "id": "RWhK_i3gerFM",
        "outputId": "7becb488-5f19-4ae8-d6a8-d0bfe68a8a64"
      },
      "execution_count": 6,
      "outputs": [
        {
          "output_type": "execute_result",
          "data": {
            "text/plain": [
              "<pyspark.sql.session.SparkSession at 0x7f3d9740a4d0>"
            ],
            "text/html": [
              "\n",
              "            <div>\n",
              "                <p><b>SparkSession - in-memory</b></p>\n",
              "                \n",
              "        <div>\n",
              "            <p><b>SparkContext</b></p>\n",
              "\n",
              "            <p><a href=\"http://4203cc94195d:4040\">Spark UI</a></p>\n",
              "\n",
              "            <dl>\n",
              "              <dt>Version</dt>\n",
              "                <dd><code>v3.1.2</code></dd>\n",
              "              <dt>Master</dt>\n",
              "                <dd><code>local[*]</code></dd>\n",
              "              <dt>AppName</dt>\n",
              "                <dd><code>pyspark-shell</code></dd>\n",
              "            </dl>\n",
              "        </div>\n",
              "        \n",
              "            </div>\n",
              "        "
            ]
          },
          "metadata": {},
          "execution_count": 6
        }
      ]
    },
    {
      "cell_type": "markdown",
      "source": [
        "## **Importing Spark ML libraries**\n",
        "\n",
        "We will important four (4) import spark libraries to use in propcessing, statistical analysis, and prediction.\n",
        "\n"
      ],
      "metadata": {
        "id": "0GfO2mSffIf_"
      }
    },
    {
      "cell_type": "markdown",
      "source": [
        "**Feature library:**\n",
        "VectorAssembler(): This function is used to create feature vectors from dataframes/raw data. These feature vectors are required to train a ML model or perform any statistical operations.\n",
        "\n",
        "---\n",
        "\n",
        "\n",
        "**Stat library:**\n",
        "Correlation(): This function is from the statistics library within SparkML. This function is used to calculate correlation between feature vectors.\n",
        "\n",
        "---\n",
        "\n",
        "**Feature library:** \n",
        "Normalized(): This function is used to normalize features. Normalizing features leads to better ML model convergence and training results.\n",
        "\n",
        "---\n",
        "\n",
        "**Regression Library:**\n",
        " LinearRegression(): This function is used to create a Linear Regression model and train it.\n",
        "\n",
        " ---"
      ],
      "metadata": {
        "id": "YU2Z4U3sfY2O"
      }
    },
    {
      "cell_type": "code",
      "source": [
        "from pyspark.ml.feature import VectorAssembler, Normalizer, StandardScaler\n",
        "from pyspark.ml.stat import Correlation\n",
        "from pyspark.ml.regression import LinearRegression"
      ],
      "metadata": {
        "id": "8H5b6UmClHm6"
      },
      "execution_count": 7,
      "outputs": []
    },
    {
      "cell_type": "markdown",
      "source": [
        "# **Loading the data and Creating Feature Vectors**\n",
        "\n",
        "Pandas will be used for loading CSV data into a DataFrame for Spark analysis"
      ],
      "metadata": {
        "id": "9_6Jwf5kgsSg"
      }
    },
    {
      "cell_type": "code",
      "source": [
        "# Read the file using `read_csv` function in pandas\n",
        "cars = pd.read_csv('https://cf-courses-data.s3.us.cloud-object-storage.appdomain.cloud/IBM-BD0225EN-SkillsNetwork/labs/data/cars.csv')\n",
        "cars.head()"
      ],
      "metadata": {
        "id": "bQcQTNlYe7lg",
        "colab": {
          "base_uri": "https://localhost:8080/",
          "height": 206
        },
        "outputId": "310b7c99-272d-4db8-bdaa-5cc4c1f6bad1"
      },
      "execution_count": 73,
      "outputs": [
        {
          "output_type": "execute_result",
          "data": {
            "text/plain": [
              "    mpg  cylinders  displacement horsepower  weight  acceleration  model  \\\n",
              "0  18.0          8         307.0      130.0  3504.0          12.0     70   \n",
              "1  15.0          8         350.0      165.0  3693.0          11.5     70   \n",
              "2  18.0          8         318.0      150.0  3436.0          11.0     70   \n",
              "3  16.0          8         304.0      150.0  3433.0          12.0     70   \n",
              "4  17.0          8         302.0      140.0  3449.0          10.5     70   \n",
              "\n",
              "   origin                   car_name  \n",
              "0       1  chevrolet chevelle malibu  \n",
              "1       1          buick skylark 320  \n",
              "2       1         plymouth satellite  \n",
              "3       1              amc rebel sst  \n",
              "4       1                ford torino  "
            ],
            "text/html": [
              "\n",
              "  <div id=\"df-7bdfdef2-6923-4094-a576-0bfde38b4c16\">\n",
              "    <div class=\"colab-df-container\">\n",
              "      <div>\n",
              "<style scoped>\n",
              "    .dataframe tbody tr th:only-of-type {\n",
              "        vertical-align: middle;\n",
              "    }\n",
              "\n",
              "    .dataframe tbody tr th {\n",
              "        vertical-align: top;\n",
              "    }\n",
              "\n",
              "    .dataframe thead th {\n",
              "        text-align: right;\n",
              "    }\n",
              "</style>\n",
              "<table border=\"1\" class=\"dataframe\">\n",
              "  <thead>\n",
              "    <tr style=\"text-align: right;\">\n",
              "      <th></th>\n",
              "      <th>mpg</th>\n",
              "      <th>cylinders</th>\n",
              "      <th>displacement</th>\n",
              "      <th>horsepower</th>\n",
              "      <th>weight</th>\n",
              "      <th>acceleration</th>\n",
              "      <th>model</th>\n",
              "      <th>origin</th>\n",
              "      <th>car_name</th>\n",
              "    </tr>\n",
              "  </thead>\n",
              "  <tbody>\n",
              "    <tr>\n",
              "      <th>0</th>\n",
              "      <td>18.0</td>\n",
              "      <td>8</td>\n",
              "      <td>307.0</td>\n",
              "      <td>130.0</td>\n",
              "      <td>3504.0</td>\n",
              "      <td>12.0</td>\n",
              "      <td>70</td>\n",
              "      <td>1</td>\n",
              "      <td>chevrolet chevelle malibu</td>\n",
              "    </tr>\n",
              "    <tr>\n",
              "      <th>1</th>\n",
              "      <td>15.0</td>\n",
              "      <td>8</td>\n",
              "      <td>350.0</td>\n",
              "      <td>165.0</td>\n",
              "      <td>3693.0</td>\n",
              "      <td>11.5</td>\n",
              "      <td>70</td>\n",
              "      <td>1</td>\n",
              "      <td>buick skylark 320</td>\n",
              "    </tr>\n",
              "    <tr>\n",
              "      <th>2</th>\n",
              "      <td>18.0</td>\n",
              "      <td>8</td>\n",
              "      <td>318.0</td>\n",
              "      <td>150.0</td>\n",
              "      <td>3436.0</td>\n",
              "      <td>11.0</td>\n",
              "      <td>70</td>\n",
              "      <td>1</td>\n",
              "      <td>plymouth satellite</td>\n",
              "    </tr>\n",
              "    <tr>\n",
              "      <th>3</th>\n",
              "      <td>16.0</td>\n",
              "      <td>8</td>\n",
              "      <td>304.0</td>\n",
              "      <td>150.0</td>\n",
              "      <td>3433.0</td>\n",
              "      <td>12.0</td>\n",
              "      <td>70</td>\n",
              "      <td>1</td>\n",
              "      <td>amc rebel sst</td>\n",
              "    </tr>\n",
              "    <tr>\n",
              "      <th>4</th>\n",
              "      <td>17.0</td>\n",
              "      <td>8</td>\n",
              "      <td>302.0</td>\n",
              "      <td>140.0</td>\n",
              "      <td>3449.0</td>\n",
              "      <td>10.5</td>\n",
              "      <td>70</td>\n",
              "      <td>1</td>\n",
              "      <td>ford torino</td>\n",
              "    </tr>\n",
              "  </tbody>\n",
              "</table>\n",
              "</div>\n",
              "      <button class=\"colab-df-convert\" onclick=\"convertToInteractive('df-7bdfdef2-6923-4094-a576-0bfde38b4c16')\"\n",
              "              title=\"Convert this dataframe to an interactive table.\"\n",
              "              style=\"display:none;\">\n",
              "        \n",
              "  <svg xmlns=\"http://www.w3.org/2000/svg\" height=\"24px\"viewBox=\"0 0 24 24\"\n",
              "       width=\"24px\">\n",
              "    <path d=\"M0 0h24v24H0V0z\" fill=\"none\"/>\n",
              "    <path d=\"M18.56 5.44l.94 2.06.94-2.06 2.06-.94-2.06-.94-.94-2.06-.94 2.06-2.06.94zm-11 1L8.5 8.5l.94-2.06 2.06-.94-2.06-.94L8.5 2.5l-.94 2.06-2.06.94zm10 10l.94 2.06.94-2.06 2.06-.94-2.06-.94-.94-2.06-.94 2.06-2.06.94z\"/><path d=\"M17.41 7.96l-1.37-1.37c-.4-.4-.92-.59-1.43-.59-.52 0-1.04.2-1.43.59L10.3 9.45l-7.72 7.72c-.78.78-.78 2.05 0 2.83L4 21.41c.39.39.9.59 1.41.59.51 0 1.02-.2 1.41-.59l7.78-7.78 2.81-2.81c.8-.78.8-2.07 0-2.86zM5.41 20L4 18.59l7.72-7.72 1.47 1.35L5.41 20z\"/>\n",
              "  </svg>\n",
              "      </button>\n",
              "      \n",
              "  <style>\n",
              "    .colab-df-container {\n",
              "      display:flex;\n",
              "      flex-wrap:wrap;\n",
              "      gap: 12px;\n",
              "    }\n",
              "\n",
              "    .colab-df-convert {\n",
              "      background-color: #E8F0FE;\n",
              "      border: none;\n",
              "      border-radius: 50%;\n",
              "      cursor: pointer;\n",
              "      display: none;\n",
              "      fill: #1967D2;\n",
              "      height: 32px;\n",
              "      padding: 0 0 0 0;\n",
              "      width: 32px;\n",
              "    }\n",
              "\n",
              "    .colab-df-convert:hover {\n",
              "      background-color: #E2EBFA;\n",
              "      box-shadow: 0px 1px 2px rgba(60, 64, 67, 0.3), 0px 1px 3px 1px rgba(60, 64, 67, 0.15);\n",
              "      fill: #174EA6;\n",
              "    }\n",
              "\n",
              "    [theme=dark] .colab-df-convert {\n",
              "      background-color: #3B4455;\n",
              "      fill: #D2E3FC;\n",
              "    }\n",
              "\n",
              "    [theme=dark] .colab-df-convert:hover {\n",
              "      background-color: #434B5C;\n",
              "      box-shadow: 0px 1px 3px 1px rgba(0, 0, 0, 0.15);\n",
              "      filter: drop-shadow(0px 1px 2px rgba(0, 0, 0, 0.3));\n",
              "      fill: #FFFFFF;\n",
              "    }\n",
              "  </style>\n",
              "\n",
              "      <script>\n",
              "        const buttonEl =\n",
              "          document.querySelector('#df-7bdfdef2-6923-4094-a576-0bfde38b4c16 button.colab-df-convert');\n",
              "        buttonEl.style.display =\n",
              "          google.colab.kernel.accessAllowed ? 'block' : 'none';\n",
              "\n",
              "        async function convertToInteractive(key) {\n",
              "          const element = document.querySelector('#df-7bdfdef2-6923-4094-a576-0bfde38b4c16');\n",
              "          const dataTable =\n",
              "            await google.colab.kernel.invokeFunction('convertToInteractive',\n",
              "                                                     [key], {});\n",
              "          if (!dataTable) return;\n",
              "\n",
              "          const docLinkHtml = 'Like what you see? Visit the ' +\n",
              "            '<a target=\"_blank\" href=https://colab.research.google.com/notebooks/data_table.ipynb>data table notebook</a>'\n",
              "            + ' to learn more about interactive tables.';\n",
              "          element.innerHTML = '';\n",
              "          dataTable['output_type'] = 'display_data';\n",
              "          await google.colab.output.renderOutput(dataTable, element);\n",
              "          const docLink = document.createElement('div');\n",
              "          docLink.innerHTML = docLinkHtml;\n",
              "          element.appendChild(docLink);\n",
              "        }\n",
              "      </script>\n",
              "    </div>\n",
              "  </div>\n",
              "  "
            ]
          },
          "metadata": {},
          "execution_count": 73
        }
      ]
    },
    {
      "cell_type": "code",
      "source": [
        "cars2 = pd.read_csv('https://cf-courses-data.s3.us.cloud-object-storage.appdomain.cloud/IBM-BD0225EN-SkillsNetwork/labs/data/cars2.csv', header=None, names=[\"mpg\", \"hp\", \"weight\"])\n",
        "cars2.head()"
      ],
      "metadata": {
        "colab": {
          "base_uri": "https://localhost:8080/",
          "height": 206
        },
        "id": "f0CGly2biQGQ",
        "outputId": "ba2098c1-992b-4fe7-e1dc-c4f6f8575052"
      },
      "execution_count": 75,
      "outputs": [
        {
          "output_type": "execute_result",
          "data": {
            "text/plain": [
              "    mpg     hp  weight\n",
              "0  18.0  130.0  3504.0\n",
              "1  15.0  165.0  3693.0\n",
              "2  18.0  150.0  3436.0\n",
              "3  16.0  150.0  3433.0\n",
              "4  17.0  140.0  3449.0"
            ],
            "text/html": [
              "\n",
              "  <div id=\"df-c3bf7b03-61ba-47a7-bba9-5fa1c9617bea\">\n",
              "    <div class=\"colab-df-container\">\n",
              "      <div>\n",
              "<style scoped>\n",
              "    .dataframe tbody tr th:only-of-type {\n",
              "        vertical-align: middle;\n",
              "    }\n",
              "\n",
              "    .dataframe tbody tr th {\n",
              "        vertical-align: top;\n",
              "    }\n",
              "\n",
              "    .dataframe thead th {\n",
              "        text-align: right;\n",
              "    }\n",
              "</style>\n",
              "<table border=\"1\" class=\"dataframe\">\n",
              "  <thead>\n",
              "    <tr style=\"text-align: right;\">\n",
              "      <th></th>\n",
              "      <th>mpg</th>\n",
              "      <th>hp</th>\n",
              "      <th>weight</th>\n",
              "    </tr>\n",
              "  </thead>\n",
              "  <tbody>\n",
              "    <tr>\n",
              "      <th>0</th>\n",
              "      <td>18.0</td>\n",
              "      <td>130.0</td>\n",
              "      <td>3504.0</td>\n",
              "    </tr>\n",
              "    <tr>\n",
              "      <th>1</th>\n",
              "      <td>15.0</td>\n",
              "      <td>165.0</td>\n",
              "      <td>3693.0</td>\n",
              "    </tr>\n",
              "    <tr>\n",
              "      <th>2</th>\n",
              "      <td>18.0</td>\n",
              "      <td>150.0</td>\n",
              "      <td>3436.0</td>\n",
              "    </tr>\n",
              "    <tr>\n",
              "      <th>3</th>\n",
              "      <td>16.0</td>\n",
              "      <td>150.0</td>\n",
              "      <td>3433.0</td>\n",
              "    </tr>\n",
              "    <tr>\n",
              "      <th>4</th>\n",
              "      <td>17.0</td>\n",
              "      <td>140.0</td>\n",
              "      <td>3449.0</td>\n",
              "    </tr>\n",
              "  </tbody>\n",
              "</table>\n",
              "</div>\n",
              "      <button class=\"colab-df-convert\" onclick=\"convertToInteractive('df-c3bf7b03-61ba-47a7-bba9-5fa1c9617bea')\"\n",
              "              title=\"Convert this dataframe to an interactive table.\"\n",
              "              style=\"display:none;\">\n",
              "        \n",
              "  <svg xmlns=\"http://www.w3.org/2000/svg\" height=\"24px\"viewBox=\"0 0 24 24\"\n",
              "       width=\"24px\">\n",
              "    <path d=\"M0 0h24v24H0V0z\" fill=\"none\"/>\n",
              "    <path d=\"M18.56 5.44l.94 2.06.94-2.06 2.06-.94-2.06-.94-.94-2.06-.94 2.06-2.06.94zm-11 1L8.5 8.5l.94-2.06 2.06-.94-2.06-.94L8.5 2.5l-.94 2.06-2.06.94zm10 10l.94 2.06.94-2.06 2.06-.94-2.06-.94-.94-2.06-.94 2.06-2.06.94z\"/><path d=\"M17.41 7.96l-1.37-1.37c-.4-.4-.92-.59-1.43-.59-.52 0-1.04.2-1.43.59L10.3 9.45l-7.72 7.72c-.78.78-.78 2.05 0 2.83L4 21.41c.39.39.9.59 1.41.59.51 0 1.02-.2 1.41-.59l7.78-7.78 2.81-2.81c.8-.78.8-2.07 0-2.86zM5.41 20L4 18.59l7.72-7.72 1.47 1.35L5.41 20z\"/>\n",
              "  </svg>\n",
              "      </button>\n",
              "      \n",
              "  <style>\n",
              "    .colab-df-container {\n",
              "      display:flex;\n",
              "      flex-wrap:wrap;\n",
              "      gap: 12px;\n",
              "    }\n",
              "\n",
              "    .colab-df-convert {\n",
              "      background-color: #E8F0FE;\n",
              "      border: none;\n",
              "      border-radius: 50%;\n",
              "      cursor: pointer;\n",
              "      display: none;\n",
              "      fill: #1967D2;\n",
              "      height: 32px;\n",
              "      padding: 0 0 0 0;\n",
              "      width: 32px;\n",
              "    }\n",
              "\n",
              "    .colab-df-convert:hover {\n",
              "      background-color: #E2EBFA;\n",
              "      box-shadow: 0px 1px 2px rgba(60, 64, 67, 0.3), 0px 1px 3px 1px rgba(60, 64, 67, 0.15);\n",
              "      fill: #174EA6;\n",
              "    }\n",
              "\n",
              "    [theme=dark] .colab-df-convert {\n",
              "      background-color: #3B4455;\n",
              "      fill: #D2E3FC;\n",
              "    }\n",
              "\n",
              "    [theme=dark] .colab-df-convert:hover {\n",
              "      background-color: #434B5C;\n",
              "      box-shadow: 0px 1px 3px 1px rgba(0, 0, 0, 0.15);\n",
              "      filter: drop-shadow(0px 1px 2px rgba(0, 0, 0, 0.3));\n",
              "      fill: #FFFFFF;\n",
              "    }\n",
              "  </style>\n",
              "\n",
              "      <script>\n",
              "        const buttonEl =\n",
              "          document.querySelector('#df-c3bf7b03-61ba-47a7-bba9-5fa1c9617bea button.colab-df-convert');\n",
              "        buttonEl.style.display =\n",
              "          google.colab.kernel.accessAllowed ? 'block' : 'none';\n",
              "\n",
              "        async function convertToInteractive(key) {\n",
              "          const element = document.querySelector('#df-c3bf7b03-61ba-47a7-bba9-5fa1c9617bea');\n",
              "          const dataTable =\n",
              "            await google.colab.kernel.invokeFunction('convertToInteractive',\n",
              "                                                     [key], {});\n",
              "          if (!dataTable) return;\n",
              "\n",
              "          const docLinkHtml = 'Like what you see? Visit the ' +\n",
              "            '<a target=\"_blank\" href=https://colab.research.google.com/notebooks/data_table.ipynb>data table notebook</a>'\n",
              "            + ' to learn more about interactive tables.';\n",
              "          element.innerHTML = '';\n",
              "          dataTable['output_type'] = 'display_data';\n",
              "          await google.colab.output.renderOutput(dataTable, element);\n",
              "          const docLink = document.createElement('div');\n",
              "          docLink.innerHTML = docLinkHtml;\n",
              "          element.appendChild(docLink);\n",
              "        }\n",
              "      </script>\n",
              "    </div>\n",
              "  </div>\n",
              "  "
            ]
          },
          "metadata": {},
          "execution_count": 75
        }
      ]
    },
    {
      "cell_type": "code",
      "source": [
        "cars2.head()"
      ],
      "metadata": {
        "colab": {
          "base_uri": "https://localhost:8080/",
          "height": 206
        },
        "id": "LRMizY3Dg8ij",
        "outputId": "d08b48c5-d004-472f-a8ac-8f6cf4dbcbf1"
      },
      "execution_count": 10,
      "outputs": [
        {
          "output_type": "execute_result",
          "data": {
            "text/plain": [
              "    mpg     hp  weight\n",
              "0  18.0  130.0  3504.0\n",
              "1  15.0  165.0  3693.0\n",
              "2  18.0  150.0  3436.0\n",
              "3  16.0  150.0  3433.0\n",
              "4  17.0  140.0  3449.0"
            ],
            "text/html": [
              "\n",
              "  <div id=\"df-90ef44e5-b7ed-4da5-8b6e-8c1a8ddf081d\">\n",
              "    <div class=\"colab-df-container\">\n",
              "      <div>\n",
              "<style scoped>\n",
              "    .dataframe tbody tr th:only-of-type {\n",
              "        vertical-align: middle;\n",
              "    }\n",
              "\n",
              "    .dataframe tbody tr th {\n",
              "        vertical-align: top;\n",
              "    }\n",
              "\n",
              "    .dataframe thead th {\n",
              "        text-align: right;\n",
              "    }\n",
              "</style>\n",
              "<table border=\"1\" class=\"dataframe\">\n",
              "  <thead>\n",
              "    <tr style=\"text-align: right;\">\n",
              "      <th></th>\n",
              "      <th>mpg</th>\n",
              "      <th>hp</th>\n",
              "      <th>weight</th>\n",
              "    </tr>\n",
              "  </thead>\n",
              "  <tbody>\n",
              "    <tr>\n",
              "      <th>0</th>\n",
              "      <td>18.0</td>\n",
              "      <td>130.0</td>\n",
              "      <td>3504.0</td>\n",
              "    </tr>\n",
              "    <tr>\n",
              "      <th>1</th>\n",
              "      <td>15.0</td>\n",
              "      <td>165.0</td>\n",
              "      <td>3693.0</td>\n",
              "    </tr>\n",
              "    <tr>\n",
              "      <th>2</th>\n",
              "      <td>18.0</td>\n",
              "      <td>150.0</td>\n",
              "      <td>3436.0</td>\n",
              "    </tr>\n",
              "    <tr>\n",
              "      <th>3</th>\n",
              "      <td>16.0</td>\n",
              "      <td>150.0</td>\n",
              "      <td>3433.0</td>\n",
              "    </tr>\n",
              "    <tr>\n",
              "      <th>4</th>\n",
              "      <td>17.0</td>\n",
              "      <td>140.0</td>\n",
              "      <td>3449.0</td>\n",
              "    </tr>\n",
              "  </tbody>\n",
              "</table>\n",
              "</div>\n",
              "      <button class=\"colab-df-convert\" onclick=\"convertToInteractive('df-90ef44e5-b7ed-4da5-8b6e-8c1a8ddf081d')\"\n",
              "              title=\"Convert this dataframe to an interactive table.\"\n",
              "              style=\"display:none;\">\n",
              "        \n",
              "  <svg xmlns=\"http://www.w3.org/2000/svg\" height=\"24px\"viewBox=\"0 0 24 24\"\n",
              "       width=\"24px\">\n",
              "    <path d=\"M0 0h24v24H0V0z\" fill=\"none\"/>\n",
              "    <path d=\"M18.56 5.44l.94 2.06.94-2.06 2.06-.94-2.06-.94-.94-2.06-.94 2.06-2.06.94zm-11 1L8.5 8.5l.94-2.06 2.06-.94-2.06-.94L8.5 2.5l-.94 2.06-2.06.94zm10 10l.94 2.06.94-2.06 2.06-.94-2.06-.94-.94-2.06-.94 2.06-2.06.94z\"/><path d=\"M17.41 7.96l-1.37-1.37c-.4-.4-.92-.59-1.43-.59-.52 0-1.04.2-1.43.59L10.3 9.45l-7.72 7.72c-.78.78-.78 2.05 0 2.83L4 21.41c.39.39.9.59 1.41.59.51 0 1.02-.2 1.41-.59l7.78-7.78 2.81-2.81c.8-.78.8-2.07 0-2.86zM5.41 20L4 18.59l7.72-7.72 1.47 1.35L5.41 20z\"/>\n",
              "  </svg>\n",
              "      </button>\n",
              "      \n",
              "  <style>\n",
              "    .colab-df-container {\n",
              "      display:flex;\n",
              "      flex-wrap:wrap;\n",
              "      gap: 12px;\n",
              "    }\n",
              "\n",
              "    .colab-df-convert {\n",
              "      background-color: #E8F0FE;\n",
              "      border: none;\n",
              "      border-radius: 50%;\n",
              "      cursor: pointer;\n",
              "      display: none;\n",
              "      fill: #1967D2;\n",
              "      height: 32px;\n",
              "      padding: 0 0 0 0;\n",
              "      width: 32px;\n",
              "    }\n",
              "\n",
              "    .colab-df-convert:hover {\n",
              "      background-color: #E2EBFA;\n",
              "      box-shadow: 0px 1px 2px rgba(60, 64, 67, 0.3), 0px 1px 3px 1px rgba(60, 64, 67, 0.15);\n",
              "      fill: #174EA6;\n",
              "    }\n",
              "\n",
              "    [theme=dark] .colab-df-convert {\n",
              "      background-color: #3B4455;\n",
              "      fill: #D2E3FC;\n",
              "    }\n",
              "\n",
              "    [theme=dark] .colab-df-convert:hover {\n",
              "      background-color: #434B5C;\n",
              "      box-shadow: 0px 1px 3px 1px rgba(0, 0, 0, 0.15);\n",
              "      filter: drop-shadow(0px 1px 2px rgba(0, 0, 0, 0.3));\n",
              "      fill: #FFFFFF;\n",
              "    }\n",
              "  </style>\n",
              "\n",
              "      <script>\n",
              "        const buttonEl =\n",
              "          document.querySelector('#df-90ef44e5-b7ed-4da5-8b6e-8c1a8ddf081d button.colab-df-convert');\n",
              "        buttonEl.style.display =\n",
              "          google.colab.kernel.accessAllowed ? 'block' : 'none';\n",
              "\n",
              "        async function convertToInteractive(key) {\n",
              "          const element = document.querySelector('#df-90ef44e5-b7ed-4da5-8b6e-8c1a8ddf081d');\n",
              "          const dataTable =\n",
              "            await google.colab.kernel.invokeFunction('convertToInteractive',\n",
              "                                                     [key], {});\n",
              "          if (!dataTable) return;\n",
              "\n",
              "          const docLinkHtml = 'Like what you see? Visit the ' +\n",
              "            '<a target=\"_blank\" href=https://colab.research.google.com/notebooks/data_table.ipynb>data table notebook</a>'\n",
              "            + ' to learn more about interactive tables.';\n",
              "          element.innerHTML = '';\n",
              "          dataTable['output_type'] = 'display_data';\n",
              "          await google.colab.output.renderOutput(dataTable, element);\n",
              "          const docLink = document.createElement('div');\n",
              "          docLink.innerHTML = docLinkHtml;\n",
              "          element.appendChild(docLink);\n",
              "        }\n",
              "      </script>\n",
              "    </div>\n",
              "  </div>\n",
              "  "
            ]
          },
          "metadata": {},
          "execution_count": 10
        }
      ]
    },
    {
      "cell_type": "code",
      "source": [
        "cars2.describe()"
      ],
      "metadata": {
        "colab": {
          "base_uri": "https://localhost:8080/",
          "height": 300
        },
        "id": "bgDY1Mtqg_Rp",
        "outputId": "1c074063-df8c-45a7-ecab-44958f821e83"
      },
      "execution_count": 11,
      "outputs": [
        {
          "output_type": "execute_result",
          "data": {
            "text/plain": [
              "              mpg          hp       weight\n",
              "count  392.000000  392.000000   392.000000\n",
              "mean    23.445918  104.469388  2977.584184\n",
              "std      7.805007   38.491160   849.402560\n",
              "min      9.000000   46.000000  1613.000000\n",
              "25%     17.000000   75.000000  2225.250000\n",
              "50%     22.750000   93.500000  2803.500000\n",
              "75%     29.000000  126.000000  3614.750000\n",
              "max     46.600000  230.000000  5140.000000"
            ],
            "text/html": [
              "\n",
              "  <div id=\"df-27785029-4f57-411f-ba92-68badefd97fd\">\n",
              "    <div class=\"colab-df-container\">\n",
              "      <div>\n",
              "<style scoped>\n",
              "    .dataframe tbody tr th:only-of-type {\n",
              "        vertical-align: middle;\n",
              "    }\n",
              "\n",
              "    .dataframe tbody tr th {\n",
              "        vertical-align: top;\n",
              "    }\n",
              "\n",
              "    .dataframe thead th {\n",
              "        text-align: right;\n",
              "    }\n",
              "</style>\n",
              "<table border=\"1\" class=\"dataframe\">\n",
              "  <thead>\n",
              "    <tr style=\"text-align: right;\">\n",
              "      <th></th>\n",
              "      <th>mpg</th>\n",
              "      <th>hp</th>\n",
              "      <th>weight</th>\n",
              "    </tr>\n",
              "  </thead>\n",
              "  <tbody>\n",
              "    <tr>\n",
              "      <th>count</th>\n",
              "      <td>392.000000</td>\n",
              "      <td>392.000000</td>\n",
              "      <td>392.000000</td>\n",
              "    </tr>\n",
              "    <tr>\n",
              "      <th>mean</th>\n",
              "      <td>23.445918</td>\n",
              "      <td>104.469388</td>\n",
              "      <td>2977.584184</td>\n",
              "    </tr>\n",
              "    <tr>\n",
              "      <th>std</th>\n",
              "      <td>7.805007</td>\n",
              "      <td>38.491160</td>\n",
              "      <td>849.402560</td>\n",
              "    </tr>\n",
              "    <tr>\n",
              "      <th>min</th>\n",
              "      <td>9.000000</td>\n",
              "      <td>46.000000</td>\n",
              "      <td>1613.000000</td>\n",
              "    </tr>\n",
              "    <tr>\n",
              "      <th>25%</th>\n",
              "      <td>17.000000</td>\n",
              "      <td>75.000000</td>\n",
              "      <td>2225.250000</td>\n",
              "    </tr>\n",
              "    <tr>\n",
              "      <th>50%</th>\n",
              "      <td>22.750000</td>\n",
              "      <td>93.500000</td>\n",
              "      <td>2803.500000</td>\n",
              "    </tr>\n",
              "    <tr>\n",
              "      <th>75%</th>\n",
              "      <td>29.000000</td>\n",
              "      <td>126.000000</td>\n",
              "      <td>3614.750000</td>\n",
              "    </tr>\n",
              "    <tr>\n",
              "      <th>max</th>\n",
              "      <td>46.600000</td>\n",
              "      <td>230.000000</td>\n",
              "      <td>5140.000000</td>\n",
              "    </tr>\n",
              "  </tbody>\n",
              "</table>\n",
              "</div>\n",
              "      <button class=\"colab-df-convert\" onclick=\"convertToInteractive('df-27785029-4f57-411f-ba92-68badefd97fd')\"\n",
              "              title=\"Convert this dataframe to an interactive table.\"\n",
              "              style=\"display:none;\">\n",
              "        \n",
              "  <svg xmlns=\"http://www.w3.org/2000/svg\" height=\"24px\"viewBox=\"0 0 24 24\"\n",
              "       width=\"24px\">\n",
              "    <path d=\"M0 0h24v24H0V0z\" fill=\"none\"/>\n",
              "    <path d=\"M18.56 5.44l.94 2.06.94-2.06 2.06-.94-2.06-.94-.94-2.06-.94 2.06-2.06.94zm-11 1L8.5 8.5l.94-2.06 2.06-.94-2.06-.94L8.5 2.5l-.94 2.06-2.06.94zm10 10l.94 2.06.94-2.06 2.06-.94-2.06-.94-.94-2.06-.94 2.06-2.06.94z\"/><path d=\"M17.41 7.96l-1.37-1.37c-.4-.4-.92-.59-1.43-.59-.52 0-1.04.2-1.43.59L10.3 9.45l-7.72 7.72c-.78.78-.78 2.05 0 2.83L4 21.41c.39.39.9.59 1.41.59.51 0 1.02-.2 1.41-.59l7.78-7.78 2.81-2.81c.8-.78.8-2.07 0-2.86zM5.41 20L4 18.59l7.72-7.72 1.47 1.35L5.41 20z\"/>\n",
              "  </svg>\n",
              "      </button>\n",
              "      \n",
              "  <style>\n",
              "    .colab-df-container {\n",
              "      display:flex;\n",
              "      flex-wrap:wrap;\n",
              "      gap: 12px;\n",
              "    }\n",
              "\n",
              "    .colab-df-convert {\n",
              "      background-color: #E8F0FE;\n",
              "      border: none;\n",
              "      border-radius: 50%;\n",
              "      cursor: pointer;\n",
              "      display: none;\n",
              "      fill: #1967D2;\n",
              "      height: 32px;\n",
              "      padding: 0 0 0 0;\n",
              "      width: 32px;\n",
              "    }\n",
              "\n",
              "    .colab-df-convert:hover {\n",
              "      background-color: #E2EBFA;\n",
              "      box-shadow: 0px 1px 2px rgba(60, 64, 67, 0.3), 0px 1px 3px 1px rgba(60, 64, 67, 0.15);\n",
              "      fill: #174EA6;\n",
              "    }\n",
              "\n",
              "    [theme=dark] .colab-df-convert {\n",
              "      background-color: #3B4455;\n",
              "      fill: #D2E3FC;\n",
              "    }\n",
              "\n",
              "    [theme=dark] .colab-df-convert:hover {\n",
              "      background-color: #434B5C;\n",
              "      box-shadow: 0px 1px 3px 1px rgba(0, 0, 0, 0.15);\n",
              "      filter: drop-shadow(0px 1px 2px rgba(0, 0, 0, 0.3));\n",
              "      fill: #FFFFFF;\n",
              "    }\n",
              "  </style>\n",
              "\n",
              "      <script>\n",
              "        const buttonEl =\n",
              "          document.querySelector('#df-27785029-4f57-411f-ba92-68badefd97fd button.colab-df-convert');\n",
              "        buttonEl.style.display =\n",
              "          google.colab.kernel.accessAllowed ? 'block' : 'none';\n",
              "\n",
              "        async function convertToInteractive(key) {\n",
              "          const element = document.querySelector('#df-27785029-4f57-411f-ba92-68badefd97fd');\n",
              "          const dataTable =\n",
              "            await google.colab.kernel.invokeFunction('convertToInteractive',\n",
              "                                                     [key], {});\n",
              "          if (!dataTable) return;\n",
              "\n",
              "          const docLinkHtml = 'Like what you see? Visit the ' +\n",
              "            '<a target=\"_blank\" href=https://colab.research.google.com/notebooks/data_table.ipynb>data table notebook</a>'\n",
              "            + ' to learn more about interactive tables.';\n",
              "          element.innerHTML = '';\n",
              "          dataTable['output_type'] = 'display_data';\n",
              "          await google.colab.output.renderOutput(dataTable, element);\n",
              "          const docLink = document.createElement('div');\n",
              "          docLink.innerHTML = docLinkHtml;\n",
              "          element.appendChild(docLink);\n",
              "        }\n",
              "      </script>\n",
              "    </div>\n",
              "  </div>\n",
              "  "
            ]
          },
          "metadata": {},
          "execution_count": 11
        }
      ]
    },
    {
      "cell_type": "code",
      "source": [
        "cars2.info()"
      ],
      "metadata": {
        "colab": {
          "base_uri": "https://localhost:8080/"
        },
        "id": "rJrMnolAhB3h",
        "outputId": "636bef10-73c4-47cc-f7e9-1b8f879f038f"
      },
      "execution_count": 12,
      "outputs": [
        {
          "output_type": "stream",
          "name": "stdout",
          "text": [
            "<class 'pandas.core.frame.DataFrame'>\n",
            "RangeIndex: 392 entries, 0 to 391\n",
            "Data columns (total 3 columns):\n",
            " #   Column  Non-Null Count  Dtype  \n",
            "---  ------  --------------  -----  \n",
            " 0   mpg     392 non-null    float64\n",
            " 1   hp      392 non-null    float64\n",
            " 2   weight  392 non-null    float64\n",
            "dtypes: float64(3)\n",
            "memory usage: 9.3 KB\n"
          ]
        }
      ]
    },
    {
      "cell_type": "markdown",
      "source": [
        "# **Loading data into a Spark DataFrame**"
      ],
      "metadata": {
        "id": "VD8yAGx4inky"
      }
    },
    {
      "cell_type": "code",
      "source": [
        "# Data are loaded into Spark DataFrames using the `createDataFrame` function to load the data into a spark dataframe\n",
        "sdf = spark.createDataFrame(cars2)"
      ],
      "metadata": {
        "id": "UWojUMfnhEXH"
      },
      "execution_count": 13,
      "outputs": []
    },
    {
      "cell_type": "code",
      "source": [
        "sdf.printSchema() #checking the schema of the dataframe"
      ],
      "metadata": {
        "colab": {
          "base_uri": "https://localhost:8080/"
        },
        "id": "4bHESm5kjEg_",
        "outputId": "19f1ade5-b91b-48bb-afe8-1df12a89ade8"
      },
      "execution_count": 14,
      "outputs": [
        {
          "output_type": "stream",
          "name": "stdout",
          "text": [
            "root\n",
            " |-- mpg: double (nullable = true)\n",
            " |-- hp: double (nullable = true)\n",
            " |-- weight: double (nullable = true)\n",
            "\n"
          ]
        }
      ]
    },
    {
      "cell_type": "markdown",
      "source": [
        "# **Converting data frame columns into feature vectors**\n",
        "hp - feature\n",
        "\n",
        "weight - feature\n",
        "\n",
        "mpg - target label\n",
        "\n",
        "The VectorAssembler() function will be used to convert the dataframe columns into feature vectors."
      ],
      "metadata": {
        "id": "_NiubQHQjvOq"
      }
    },
    {
      "cell_type": "code",
      "source": [
        "featurevectors = VectorAssembler(inputCols=[\"hp\", \"weight\"],outputCol=\"features\")\n",
        "\n",
        "output = featurevectors.transform(sdf).select('features','mpg')"
      ],
      "metadata": {
        "id": "enjvUdiqjKBQ"
      },
      "execution_count": 15,
      "outputs": []
    },
    {
      "cell_type": "markdown",
      "source": [
        "### **Splitting the data into 75% training data and 25% test data**"
      ],
      "metadata": {
        "id": "jdvHSG1DlYDA"
      }
    },
    {
      "cell_type": "code",
      "source": [
        "train, test = output.randomSplit([.75,.25])"
      ],
      "metadata": {
        "id": "euKzwPpokury"
      },
      "execution_count": 16,
      "outputs": []
    },
    {
      "cell_type": "markdown",
      "source": [
        "## **Performing Basic stats and feature engineering**"
      ],
      "metadata": {
        "id": "B7wvcV54msr_"
      }
    },
    {
      "cell_type": "markdown",
      "source": [
        "We will explore the correlation between feature vectors and normalize the features"
      ],
      "metadata": {
        "id": "PeRKZ460nLpR"
      }
    },
    {
      "cell_type": "markdown",
      "source": [
        "---\n",
        "\n",
        "**Correlation:**\n",
        "\n",
        "Spark ML has inbuilt Correlation function as part of the Stat library. We use the correlation function to determine the different types of correlation between the 2 features - \"hp\" and \"weight\".\n",
        "\n",
        "---"
      ],
      "metadata": {
        "id": "_rUwMe90nUyV"
      }
    },
    {
      "cell_type": "code",
      "source": [
        "r1 = Correlation.corr(train, \"features\").head()\n",
        "r1"
      ],
      "metadata": {
        "colab": {
          "base_uri": "https://localhost:8080/"
        },
        "id": "_zTcO0XtmF0-",
        "outputId": "e8b98d7f-55e9-47b7-eedf-5961ee400bdd"
      },
      "execution_count": 17,
      "outputs": [
        {
          "output_type": "execute_result",
          "data": {
            "text/plain": [
              "Row(pearson(features)=DenseMatrix(2, 2, [1.0, 0.8638, 0.8638, 1.0], False))"
            ]
          },
          "metadata": {},
          "execution_count": 17
        }
      ]
    },
    {
      "cell_type": "code",
      "source": [
        "r2 = Correlation.corr(train, \"features\", \"spearman\").head()\n",
        "print(\"Spearman correlation matrix:\\n\\n\" + str(r2[0]))"
      ],
      "metadata": {
        "colab": {
          "base_uri": "https://localhost:8080/"
        },
        "id": "fIykYf7woI9R",
        "outputId": "4ac34fb0-bf9e-4490-9981-749fa926690a"
      },
      "execution_count": 18,
      "outputs": [
        {
          "output_type": "stream",
          "name": "stdout",
          "text": [
            "Spearman correlation matrix:\n",
            "\n",
            "DenseMatrix([[1.        , 0.88281086],\n",
            "             [0.88281086, 1.        ]])\n"
          ]
        }
      ]
    },
    {
      "cell_type": "markdown",
      "source": [
        "We can see that there is 0.88 (88%) correlation between the feature vectors."
      ],
      "metadata": {
        "id": "xAauRgw10StM"
      }
    },
    {
      "cell_type": "markdown",
      "source": [
        "### **Visualizing the correlated feature vectors.**"
      ],
      "metadata": {
        "id": "DTmzXtS_zxA0"
      }
    },
    {
      "cell_type": "code",
      "source": [
        "plt.figure()\n",
        "plt.scatter(cars2[\"hp\"], cars2[\"weight\"])\n",
        "plt.xlabel(\"horsepower\")\n",
        "plt.ylabel(\"weight\")\n",
        "plt.title(\"Correlation between Horsepower and Weight\")\n",
        "plt.show()"
      ],
      "metadata": {
        "id": "-UCur5e3oWiR",
        "colab": {
          "base_uri": "https://localhost:8080/",
          "height": 295
        },
        "outputId": "e4de5d07-001d-4c81-e77f-204daa566bfe"
      },
      "execution_count": 19,
      "outputs": [
        {
          "output_type": "display_data",
          "data": {
            "text/plain": [
              "<Figure size 432x288 with 1 Axes>"
            ],
            "image/png": "[encoded data removed]"
          },
          "metadata": {
            "needs_background": "light"
          }
        }
      ]
    },
    {
      "cell_type": "markdown",
      "source": [
        "## **Normalization**\n",
        "\n",
        "Normalization of feature vectors is very important in model training and ensuring quick convergence."
      ],
      "metadata": {
        "id": "Jk6mqYmP0z8d"
      }
    },
    {
      "cell_type": "code",
      "source": [
        "normalizer = Normalizer(inputCol=\"features\", outputCol=\"features_normalized\", p=1.0)\n",
        "train_norm = normalizer.transform(train)\n",
        "print(\"Normalized using L^1 normalization\\n\")\n",
        "train_norm.show(10, truncate=False)"
      ],
      "metadata": {
        "colab": {
          "base_uri": "https://localhost:8080/"
        },
        "id": "9t5Nq8Wuzowg",
        "outputId": "27ade4f8-0012-4204-94e7-0cbf02ee4395"
      },
      "execution_count": 28,
      "outputs": [
        {
          "output_type": "stream",
          "name": "stdout",
          "text": [
            "Normalized using L^1 normalization\n",
            "\n",
            "+-------------+----+-----------------------------------------+\n",
            "|features     |mpg |features_normalized                      |\n",
            "+-------------+----+-----------------------------------------+\n",
            "|[46.0,1835.0]|26.0|[0.024455077086656035,0.9755449229133439]|\n",
            "|[46.0,1950.0]|26.0|[0.023046092184368736,0.9769539078156313]|\n",
            "|[52.0,1649.0]|31.0|[0.030570252792475015,0.969429747207525] |\n",
            "|[53.0,1795.0]|33.0|[0.02867965367965368,0.9713203463203464] |\n",
            "|[54.0,2254.0]|23.0|[0.02339688041594454,0.9766031195840554] |\n",
            "|[60.0,1834.0]|27.0|[0.03167898627243928,0.9683210137275607] |\n",
            "|[61.0,2003.0]|32.0|[0.029554263565891473,0.9704457364341085]|\n",
            "|[65.0,1773.0]|31.0|[0.03536452665941241,0.9646354733405876] |\n",
            "|[67.0,1950.0]|31.0|[0.033217649975210706,0.9667823500247893]|\n",
            "|[67.0,1963.0]|26.0|[0.03300492610837438,0.9669950738916256] |\n",
            "+-------------+----+-----------------------------------------+\n",
            "only showing top 10 rows\n",
            "\n"
          ]
        }
      ]
    },
    {
      "cell_type": "markdown",
      "source": [
        "## **Standard Scaling**\n",
        "\n",
        "Standardizing a dataset involves rescaling the distribution of values so that the mean of observed values is 0 and the standard deviation is 1"
      ],
      "metadata": {
        "id": "gNpyzNvl1zKD"
      }
    },
    {
      "cell_type": "code",
      "source": [
        "#Training dataset\n",
        "\n",
        "standard_scaler = StandardScaler(inputCol=\"features\", outputCol=\"features_scaled\")\n",
        "train_model = standard_scaler.fit(train)\n",
        "train_scaled = train_model.transform(train)\n",
        "print('Standardazied Training dataset\\n')\n",
        "train_scaled.show(10, truncate=False)"
      ],
      "metadata": {
        "colab": {
          "base_uri": "https://localhost:8080/"
        },
        "id": "4IO8VMCD1UC6",
        "outputId": "974100d0-7e69-44da-9baa-707b96bfc959"
      },
      "execution_count": 33,
      "outputs": [
        {
          "output_type": "stream",
          "name": "stdout",
          "text": [
            "Standardazied Training dataset\n",
            "\n",
            "+-------------+----+---------------------------------------+\n",
            "|features     |mpg |features_scaled                        |\n",
            "+-------------+----+---------------------------------------+\n",
            "|[46.0,1835.0]|26.0|[1.2108815476755084,2.21088838308851]  |\n",
            "|[46.0,1950.0]|26.0|[1.2108815476755084,2.3494454207207602]|\n",
            "|[52.0,1649.0]|31.0|[1.3688226191114443,1.9867874352659145]|\n",
            "|[53.0,1795.0]|33.0|[1.3951461310174336,2.162694630868597] |\n",
            "|[54.0,2254.0]|23.0|[1.4214696429234228,2.7157179375920992]|\n",
            "|[60.0,1834.0]|27.0|[1.5794107143593588,2.2096835392830125]|\n",
            "|[61.0,2003.0]|32.0|[1.605734226265348,2.413302142412145]  |\n",
            "|[65.0,1773.0]|31.0|[1.7110282738893052,2.136188067147645] |\n",
            "|[67.0,1950.0]|31.0|[1.763675297701284,2.3494454207207602] |\n",
            "|[67.0,1963.0]|26.0|[1.763675297701284,2.365108390192232]  |\n",
            "+-------------+----+---------------------------------------+\n",
            "only showing top 10 rows\n",
            "\n"
          ]
        }
      ]
    },
    {
      "cell_type": "code",
      "source": [
        "#Test Dataset\n",
        "\n",
        "test_scaled = train_model.transform(test)\n",
        "print('Standardazied Test dataset\\n')\n",
        "test_scaled.show(10, truncate=False)"
      ],
      "metadata": {
        "colab": {
          "base_uri": "https://localhost:8080/"
        },
        "id": "TpEOaDW32Wrs",
        "outputId": "8ea2dadb-4706-49b4-ff33-4532b9b3431e"
      },
      "execution_count": 32,
      "outputs": [
        {
          "output_type": "stream",
          "name": "stdout",
          "text": [
            "Standardazied Test dataset\n",
            "\n",
            "+-------------+----+---------------------------------------+\n",
            "|features     |mpg |features_scaled                        |\n",
            "+-------------+----+---------------------------------------+\n",
            "|[49.0,1867.0]|29.0|[1.2898520833934763,2.2494433848644406]|\n",
            "|[52.0,2035.0]|29.0|[1.3688226191114443,2.451857144188075] |\n",
            "|[60.0,2164.0]|24.5|[1.5794107143593588,2.6072819950972947]|\n",
            "|[65.0,1836.0]|32.0|[1.7110282738893052,2.212093226894008] |\n",
            "|[69.0,1613.0]|35.0|[1.8163223215132624,1.943413058267993] |\n",
            "|[72.0,2401.0]|21.0|[1.8952928572312304,2.8928299770002797]|\n",
            "|[72.0,3158.0]|15.0|[1.8952928572312304,3.8048967377621334]|\n",
            "|[75.0,2108.0]|24.0|[1.9742633929491984,2.5398107419894167]|\n",
            "|[75.0,2542.0]|25.0|[1.9742633929491984,3.062712953575473] |\n",
            "|[80.0,2164.0]|28.0|[2.105880952479145,2.6072819950972947] |\n",
            "+-------------+----+---------------------------------------+\n",
            "only showing top 10 rows\n",
            "\n"
          ]
        }
      ]
    },
    {
      "cell_type": "markdown",
      "source": [
        "### **Building and Training a Linear Regression Model**"
      ],
      "metadata": {
        "id": "hKeymnbm3WtM"
      }
    },
    {
      "cell_type": "markdown",
      "source": [
        "## **Creating and Training the Linear Regression model**\n",
        "\n",
        "We will create the model using the LinearRegression() class and train using the fit() function."
      ],
      "metadata": {
        "id": "ObwVcmFz3lMS"
      }
    },
    {
      "cell_type": "code",
      "source": [
        "# Create a LR model\n",
        "lrReg = LinearRegression(featuresCol='features_scaled', labelCol='mpg', maxIter=100)\n",
        "\n",
        "# Fit the model\n",
        "lrReg_Model = lrReg.fit(train_scaled)\n",
        "\n",
        "# Print the coefficients and intercept for linear regression\n",
        "print(\"Coefficients: %s\" % str(lrReg_Model.coefficients))\n",
        "print(\"Intercept: %s\" % str(lrReg_Model.intercept))\n",
        "\n",
        "# Summarize the model over the training set and print out some metrics\n",
        "training_output = lrReg_Model.summary\n",
        "print(\"RMSE: %f\" % training_output.rootMeanSquaredError)\n",
        "print(\"R-squared: %f\" % training_output.r2)"
      ],
      "metadata": {
        "colab": {
          "base_uri": "https://localhost:8080/"
        },
        "id": "ItPAEWZz28nI",
        "outputId": "3d2b8d84-a150-4f79-dcfa-797769b0adc0"
      },
      "execution_count": 40,
      "outputs": [
        {
          "output_type": "stream",
          "name": "stdout",
          "text": [
            "Coefficients: [-1.823355708740466,-4.980381752859592]\n",
            "Intercept: 46.27290062172909\n",
            "RMSE: 4.222329\n",
            "R-squared: 0.710104\n"
          ]
        }
      ]
    },
    {
      "cell_type": "code",
      "source": [
        "print(\"The RMSE (Root mean squared error) of the trained model is\", round(training_output.rootMeanSquaredError,3),  \"\\nThis means that our model predicts the mpg with an average error of \", round(training_output.rootMeanSquaredError,1), \" units.\")"
      ],
      "metadata": {
        "colab": {
          "base_uri": "https://localhost:8080/"
        },
        "id": "r6OtIg8z4DWX",
        "outputId": "98fac13b-fde1-4b6b-eb02-0ceef03af034"
      },
      "execution_count": 63,
      "outputs": [
        {
          "output_type": "stream",
          "name": "stdout",
          "text": [
            "The RMSE (Root mean squared error) of the trained model is 4.222 \n",
            "This means that our model predicts the mpg with an average error of  4.2  units.\n"
          ]
        }
      ]
    },
    {
      "cell_type": "markdown",
      "source": [
        "### **Predicting on new data**"
      ],
      "metadata": {
        "id": "YQ-ehBY27-51"
      }
    },
    {
      "cell_type": "markdown",
      "source": [
        "After training the model, we can use transform() on new unseen data (for eg. the test data) to generate predictions. In the below cell, notice the \"prediction\" column that contains the predicted \"mpg\"."
      ],
      "metadata": {
        "id": "chbdsemo8cMp"
      }
    },
    {
      "cell_type": "code",
      "source": [
        "lrReg_Model.transform(test_scaled).show(30)"
      ],
      "metadata": {
        "colab": {
          "base_uri": "https://localhost:8080/"
        },
        "id": "JD3ZESyB5YOF",
        "outputId": "c6219282-7a2c-43b5-f2a6-b7a890acc109"
      },
      "execution_count": 68,
      "outputs": [
        {
          "output_type": "stream",
          "name": "stdout",
          "text": [
            "+--------------+----+--------------------+------------------+\n",
            "|      features| mpg|     features_scaled|        prediction|\n",
            "+--------------+----+--------------------+------------------+\n",
            "| [49.0,1867.0]|29.0|[1.28985208339347...| 32.71795467397324|\n",
            "| [52.0,2035.0]|29.0|[1.36882261911144...|31.565865503386444|\n",
            "| [60.0,2164.0]|24.5|[1.57941071435935...| 30.40781340631418|\n",
            "| [65.0,1836.0]|32.0|[1.71102827388930...|32.136018707869475|\n",
            "| [69.0,1613.0]|35.0|[1.81632232151326...|33.282160014218185|\n",
            "| [72.0,2401.0]|21.0|[1.89529285723123...|28.409709939184076|\n",
            "| [72.0,3158.0]|15.0|[1.89529285723123...|23.867269286495983|\n",
            "| [75.0,2108.0]|24.0|[1.97426339294919...| 30.02388911851698|\n",
            "| [75.0,2542.0]|25.0|[1.97426339294919...|27.419636485403856|\n",
            "| [80.0,2164.0]|28.0|[2.10588095247914...|29.447870892156516|\n",
            "| [80.0,2451.0]|26.0|[2.10588095247914...|27.725703828323645|\n",
            "| [85.0,2310.0]|19.0|[2.23749851200909...|28.331800276440795|\n",
            "| [88.0,2100.0]|27.0|[2.31646904772705...|29.447931141146075|\n",
            "| [88.0,2130.0]|27.0|[2.31646904772705...|29.267913678027657|\n",
            "| [88.0,2279.0]|20.0|[2.31646904772705...|28.373826944539513|\n",
            "| [88.0,2957.0]|23.0|[2.31646904772705...|24.305432278063254|\n",
            "| [90.0,2264.0]|28.0|[2.36911607153903...|28.367841424682954|\n",
            "| [90.0,3085.0]|22.5|[2.36911607153903...|23.441363517342232|\n",
            "| [92.0,2572.0]|25.0|[2.42176309535101...|26.423667885251426|\n",
            "| [95.0,2228.0]|25.0|[2.50073363106898...| 28.34387675188564|\n",
            "| [95.0,2278.0]|24.0|[2.50073363106898...|28.043847646688278|\n",
            "| [97.0,2506.0]|23.0|[2.55338065488096...|26.579720675572528|\n",
            "| [98.0,2945.0]|22.0|[2.57970416678695...| 23.89746800623179|\n",
            "|[100.0,2914.0]|20.0|[2.63235119059893...|23.987491800038388|\n",
            "|[100.0,3233.0]|22.0|[2.63235119059893...| 22.07330610887921|\n",
            "|[100.0,3288.0]|18.0|[2.63235119059893...|21.743274093162107|\n",
            "|[100.0,3329.0]|17.0|[2.63235119059893...|21.497250226900263|\n",
            "|[105.0,3613.0]|18.0|[2.76396875012887...|19.553099280839824|\n",
            "|[110.0,3039.0]|21.0|[2.89558630965882...|22.757447779966146|\n",
            "|[110.0,3221.0]|20.0|[2.89558630965882...|21.665341837047738|\n",
            "+--------------+----+--------------------+------------------+\n",
            "only showing top 30 rows\n",
            "\n"
          ]
        }
      ]
    },
    {
      "cell_type": "code",
      "source": [],
      "metadata": {
        "id": "gLDMhffP9HCH"
      },
      "execution_count": null,
      "outputs": []
    }
  ]
}